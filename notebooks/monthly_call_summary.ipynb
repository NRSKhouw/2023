{
 "cells": [
  {
   "cell_type": "code",
   "execution_count": 1,
   "metadata": {},
   "outputs": [],
   "source": [
    "import pandas as pd\n",
    "import numpy as np\n",
    "from glob import glob"
   ]
  },
  {
   "cell_type": "code",
   "execution_count": 2,
   "metadata": {},
   "outputs": [],
   "source": [
    "source_filelist = glob('*.csv')\n",
    "col_names = ['category', 'header', 'data_discriminator', 'asset_category',\n",
    "             'currency', 'symbol', 'date_time', 'quantity',\n",
    "             't_price', 'c_price', 'proceeds', 'comm_fee',\n",
    "             'basis', 'realized_pl', 'mtm_pl', 'code_1', 'code_2']"
   ]
  },
  {
   "cell_type": "code",
   "execution_count": 3,
   "metadata": {},
   "outputs": [],
   "source": [
    "df_source = pd.DataFrame()\n",
    "for file in source_filelist:\n",
    "    df = pd.read_csv(file,\n",
    "                     header=None,\n",
    "                     names=col_names)\n",
    "    df_source = pd.concat([df_source, df])"
   ]
  },
  {
   "cell_type": "code",
   "execution_count": 4,
   "metadata": {},
   "outputs": [],
   "source": [
    "df_put_option = df_source[(df_source['category'] == 'Trades') &\n",
    "                          (df_source['header'] == 'Data') &\n",
    "                          (df_source['asset_category'] == 'Equity and Index Options') &\n",
    "                          (df_source['currency'] == 'USD') &\n",
    "                          (df_source['symbol']).str.contains(' C')]"
   ]
  },
  {
   "cell_type": "code",
   "execution_count": 5,
   "metadata": {},
   "outputs": [
    {
     "name": "stderr",
     "output_type": "stream",
     "text": [
      "C:\\Users\\Ridwan\\AppData\\Local\\Temp\\ipykernel_7128\\2577247358.py:1: SettingWithCopyWarning: \n",
      "A value is trying to be set on a copy of a slice from a DataFrame.\n",
      "Try using .loc[row_indexer,col_indexer] = value instead\n",
      "\n",
      "See the caveats in the documentation: https://pandas.pydata.org/pandas-docs/stable/user_guide/indexing.html#returning-a-view-versus-a-copy\n",
      "  df_put_option['month'] = df_put_option['date_time'].str[:7]\n"
     ]
    }
   ],
   "source": [
    "df_put_option['month'] = df_put_option['date_time'].str[:7]"
   ]
  },
  {
   "cell_type": "code",
   "execution_count": 6,
   "metadata": {},
   "outputs": [
    {
     "name": "stderr",
     "output_type": "stream",
     "text": [
      "C:\\Users\\Ridwan\\AppData\\Local\\Temp\\ipykernel_7128\\23045636.py:1: SettingWithCopyWarning: \n",
      "A value is trying to be set on a copy of a slice from a DataFrame.\n",
      "Try using .loc[row_indexer,col_indexer] = value instead\n",
      "\n",
      "See the caveats in the documentation: https://pandas.pydata.org/pandas-docs/stable/user_guide/indexing.html#returning-a-view-versus-a-copy\n",
      "  df_put_option['proceeds'] = df_put_option['proceeds'].astype(float)\n",
      "C:\\Users\\Ridwan\\AppData\\Local\\Temp\\ipykernel_7128\\23045636.py:2: SettingWithCopyWarning: \n",
      "A value is trying to be set on a copy of a slice from a DataFrame.\n",
      "Try using .loc[row_indexer,col_indexer] = value instead\n",
      "\n",
      "See the caveats in the documentation: https://pandas.pydata.org/pandas-docs/stable/user_guide/indexing.html#returning-a-view-versus-a-copy\n",
      "  df_put_option['comm_fee'] = df_put_option['comm_fee'].astype(float)\n"
     ]
    }
   ],
   "source": [
    "df_put_option['proceeds'] = df_put_option['proceeds'].astype(float)\n",
    "df_put_option['comm_fee'] = df_put_option['comm_fee'].astype(float)"
   ]
  },
  {
   "cell_type": "code",
   "execution_count": 7,
   "metadata": {},
   "outputs": [
    {
     "data": {
      "text/html": [
       "<div>\n",
       "<style scoped>\n",
       "    .dataframe tbody tr th:only-of-type {\n",
       "        vertical-align: middle;\n",
       "    }\n",
       "\n",
       "    .dataframe tbody tr th {\n",
       "        vertical-align: top;\n",
       "    }\n",
       "\n",
       "    .dataframe thead th {\n",
       "        text-align: right;\n",
       "    }\n",
       "</style>\n",
       "<table border=\"1\" class=\"dataframe\">\n",
       "  <thead>\n",
       "    <tr style=\"text-align: right;\">\n",
       "      <th></th>\n",
       "      <th>comm_fee</th>\n",
       "      <th>proceeds</th>\n",
       "    </tr>\n",
       "    <tr>\n",
       "      <th>month</th>\n",
       "      <th></th>\n",
       "      <th></th>\n",
       "    </tr>\n",
       "  </thead>\n",
       "  <tbody>\n",
       "    <tr>\n",
       "      <th>2022-07</th>\n",
       "      <td>-3.889557</td>\n",
       "      <td>185.0</td>\n",
       "    </tr>\n",
       "    <tr>\n",
       "      <th>2022-08</th>\n",
       "      <td>-2.716692</td>\n",
       "      <td>118.0</td>\n",
       "    </tr>\n",
       "    <tr>\n",
       "      <th>2022-09</th>\n",
       "      <td>0.000000</td>\n",
       "      <td>0.0</td>\n",
       "    </tr>\n",
       "    <tr>\n",
       "      <th>2022-10</th>\n",
       "      <td>-0.559713</td>\n",
       "      <td>308.0</td>\n",
       "    </tr>\n",
       "    <tr>\n",
       "      <th>2023-01</th>\n",
       "      <td>-2.157131</td>\n",
       "      <td>4190.0</td>\n",
       "    </tr>\n",
       "    <tr>\n",
       "      <th>2023-02</th>\n",
       "      <td>-1.054010</td>\n",
       "      <td>315.0</td>\n",
       "    </tr>\n",
       "    <tr>\n",
       "      <th>2023-03</th>\n",
       "      <td>0.000000</td>\n",
       "      <td>0.0</td>\n",
       "    </tr>\n",
       "    <tr>\n",
       "      <th>2023-04</th>\n",
       "      <td>-2.725990</td>\n",
       "      <td>410.0</td>\n",
       "    </tr>\n",
       "    <tr>\n",
       "      <th>2023-05</th>\n",
       "      <td>-5.429808</td>\n",
       "      <td>-761.0</td>\n",
       "    </tr>\n",
       "  </tbody>\n",
       "</table>\n",
       "</div>"
      ],
      "text/plain": [
       "         comm_fee  proceeds\n",
       "month                      \n",
       "2022-07 -3.889557     185.0\n",
       "2022-08 -2.716692     118.0\n",
       "2022-09  0.000000       0.0\n",
       "2022-10 -0.559713     308.0\n",
       "2023-01 -2.157131    4190.0\n",
       "2023-02 -1.054010     315.0\n",
       "2023-03  0.000000       0.0\n",
       "2023-04 -2.725990     410.0\n",
       "2023-05 -5.429808    -761.0"
      ]
     },
     "execution_count": 7,
     "metadata": {},
     "output_type": "execute_result"
    }
   ],
   "source": [
    "pd.pivot_table(df_put_option, values=[\n",
    "               'proceeds', 'comm_fee'], index='month', aggfunc=sum)\n"
   ]
  },
  {
   "cell_type": "code",
   "execution_count": null,
   "metadata": {},
   "outputs": [],
   "source": []
  }
 ],
 "metadata": {
  "kernelspec": {
   "display_name": "Python 3.9.12 ('base')",
   "language": "python",
   "name": "python3"
  },
  "language_info": {
   "codemirror_mode": {
    "name": "ipython",
    "version": 3
   },
   "file_extension": ".py",
   "mimetype": "text/x-python",
   "name": "python",
   "nbconvert_exporter": "python",
   "pygments_lexer": "ipython3",
   "version": "3.9.12"
  },
  "orig_nbformat": 4,
  "vscode": {
   "interpreter": {
    "hash": "ccae794b2276e3563f586dfab52410ff88810147f2c5a7cf47078232ae6c9397"
   }
  }
 },
 "nbformat": 4,
 "nbformat_minor": 2
}
